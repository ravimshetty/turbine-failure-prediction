{
 "cells": [
  {
   "cell_type": "code",
   "execution_count": null,
   "metadata": {},
   "outputs": [],
   "source": [
    "# Importing libraries\n",
    "import pandas as pd\n",
    "import numpy as np\n",
    "import seaborn as sns\n",
    "import matplotlib.pyplot as plt\n",
    "\n",
    "# Load the dataset\n",
    "\n",
    "# Load the dataset\n",
    "df = pd.read_csv('data/turbine_failure.csv')\n",
    "\n",
    "# Show the first few rows of the dataset\n",
    "df.head()\n",
    "\n",
    "# Overview of the dataset\n",
    "df.info()\n",
    "\n",
    "# Check for missing values\n",
    "df.isnull().sum()\n",
    "\n",
    "# Visualize distribution of 'temperature', 'pressure', 'vibration'\n",
    "df[['temperature', 'pressure', 'vibration','humidity','wind_speed']].hist(bins=20, figsize=(12, 8))\n",
    "plt.suptitle('Feature Distributions')\n",
    "plt.show()\n",
    "\n",
    "# Visualize the target variable 'failure' distribution\n",
    "sns.countplot(x='failure', data=df)\n",
    "plt.title('Failure Distribution')\n",
    "plt.show()\n",
    "\n",
    "# Correlation Matrix\n",
    "# Select only numeric columns before calculating correlation\n",
    "numeric_df = df.select_dtypes(include=[np.number])\n",
    "\n",
    "# Plot the correlation matrix\n",
    "plt.figure(figsize=(8, 6))\n",
    "sns.heatmap(numeric_df.corr(), annot=True, cmap='coolwarm', fmt='.2f')\n",
    "plt.title('Feature Correlation')\n",
    "plt.show()\n"
   ]
  }
 ],
 "metadata": {
  "kernelspec": {
   "display_name": "Python 3",
   "language": "python",
   "name": "python3"
  },
  "language_info": {
   "codemirror_mode": {
    "name": "ipython",
    "version": 3
   },
   "file_extension": ".py",
   "mimetype": "text/x-python",
   "name": "python",
   "nbconvert_exporter": "python",
   "pygments_lexer": "ipython3",
   "version": "3.9.0"
  }
 },
 "nbformat": 4,
 "nbformat_minor": 2
}
